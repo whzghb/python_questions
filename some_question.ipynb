{
 "cells": [
  {
   "cell_type": "code",
   "execution_count": 1,
   "metadata": {},
   "outputs": [
    {
     "name": "stdout",
     "output_type": "stream",
     "text": [
      "1545169936 1545169936\n",
      "小整数 True\n"
     ]
    }
   ],
   "source": [
    "a = 1\n",
    "b = 1\n",
    "print(id(a),id(b))\n",
    "print('小整数',a is b)\n",
    "#以下证明，同一程序中，都是指向小整数对象池中的同一份数据"
   ]
  },
  {
   "cell_type": "code",
   "execution_count": 2,
   "metadata": {},
   "outputs": [
    {
     "name": "stdout",
     "output_type": "stream",
     "text": [
      "1545169744 1545169744 610123422704 1545178096 1545178096 610123422160\n"
     ]
    }
   ],
   "source": [
    "a = -5\n",
    "b = -5\n",
    "c = -6\n",
    "d = 256\n",
    "e = 256\n",
    "f = 257\n",
    "print(id(a),id(b),id(c),id(d),id(e),id(f))\n",
    "#小整数对象池，-5到256"
   ]
  },
  {
   "cell_type": "code",
   "execution_count": 3,
   "metadata": {},
   "outputs": [
    {
     "name": "stdout",
     "output_type": "stream",
     "text": [
      "无空格字符串 True\n"
     ]
    }
   ],
   "source": [
    "a = \"abcdefhfwaekfe\"\n",
    "b = \"abcdefhfwaekfe\"\n",
    "print(\"无空格字符串\",a is b)\n",
    "#intern机制"
   ]
  },
  {
   "cell_type": "code",
   "execution_count": 4,
   "metadata": {},
   "outputs": [
    {
     "name": "stdout",
     "output_type": "stream",
     "text": [
      "有空格字符串 False\n"
     ]
    }
   ],
   "source": [
    "a = \"hello world\"\n",
    "b = \"hello world\"\n",
    "print('有空格字符串',a is b)"
   ]
  },
  {
   "cell_type": "code",
   "execution_count": 5,
   "metadata": {},
   "outputs": [
    {
     "name": "stdout",
     "output_type": "stream",
     "text": [
      "数组 False\n",
      "元组 False\n"
     ]
    }
   ],
   "source": [
    "a = [1,2,3,4]\n",
    "b = [1,2,3,4]\n",
    "print(\"数组\",a is b)\n",
    "a = (1,2,3,4)\n",
    "b = (1,2,3,4)\n",
    "print('元组',a is b)\n",
    "#除了小整数和无空格字符串，均为False"
   ]
  },
  {
   "cell_type": "code",
   "execution_count": 6,
   "metadata": {
    "scrolled": true
   },
   "outputs": [
    {
     "name": "stdout",
     "output_type": "stream",
     "text": [
      "610123604112 610123604184\n",
      "整数 False\n"
     ]
    }
   ],
   "source": [
    "a = 10240.0000\n",
    "b = 10240.0000\n",
    "print(id(a),id(b))\n",
    "print(\"整数\",a is b)\n",
    "#在pycharm(python版本为3.6)中此处id(a)与id(b)相同，结果为True,在python3.6命令行id不同，结果为False\n",
    "#可能pycharm做了优化，如果已有定义，另一个引用直指向它，而不是另开空间"
   ]
  },
  {
   "cell_type": "code",
   "execution_count": 7,
   "metadata": {},
   "outputs": [
    {
     "name": "stdout",
     "output_type": "stream",
     "text": [
      "False\n",
      "True\n"
     ]
    }
   ],
   "source": [
    "print(1 in [1,0] == True)\n",
    "#这里python使用了比较运算符链\n",
    "#1 in [1,0] == True\n",
    "#将被转为\n",
    "#(1 in [1, 0]) and ([1, 0] == True)\n",
    "#就像a<b<c会被转化为a<b and b <c\n",
    "print((1 in [1,0]) == True)\n",
    "#加个括号就行了"
   ]
  },
  {
   "cell_type": "code",
   "execution_count": 8,
   "metadata": {},
   "outputs": [
    {
     "name": "stdout",
     "output_type": "stream",
     "text": [
      "dlrow olleh\n",
      "drwolh\n"
     ]
    }
   ],
   "source": [
    "print('hello world'[::-1])\n",
    "print('hello world'[::-2])\n",
    "#字符串逆转"
   ]
  },
  {
   "cell_type": "code",
   "execution_count": 9,
   "metadata": {},
   "outputs": [
    {
     "name": "stdout",
     "output_type": "stream",
     "text": [
      "['xyz', 'abc', 'zara', 'xyz', 123]\n",
      "a: <list_reverseiterator object at 0x0000008E0E363E48>\n",
      "next: xyz\n",
      "abc\n",
      "zara\n",
      "xyz\n",
      "123\n"
     ]
    }
   ],
   "source": [
    "#list.reverse(),修改自己\n",
    "aList = [123, 'xyz', 'zara', 'abc', 'xyz']\n",
    "aList.reverse()\n",
    "print(aList)\n",
    "#reversed(list)得赋值给另一变量，且变成了一个生成器\n",
    "aList = [123, 'xyz', 'zara', 'abc', 'xyz']\n",
    "a = reversed(aList)\n",
    "print('a:',a)\n",
    "print('next:',next(a))\n",
    "for i in a:\n",
    "    print(i)"
   ]
  },
  {
   "cell_type": "code",
   "execution_count": 10,
   "metadata": {},
   "outputs": [
    {
     "name": "stdout",
     "output_type": "stream",
     "text": [
      "Z\n",
      "A\n",
      "18U527\n",
      "PRCDZQ\n"
     ]
    }
   ],
   "source": [
    "import random\n",
    "# print(ord('A'))\n",
    "# print(chr(122))\n",
    "print(chr(90))\n",
    "print(chr(65))\n",
    "res = \"\"\n",
    "for i in range(6):\n",
    "    j = random.randrange(6)\n",
    "#     print(j)\n",
    "    if i == j:\n",
    "        res += str(chr(random.randrange(65,91)))\n",
    "    else:\n",
    "        res += str(random.randrange(0,10))\n",
    "print(res)\n",
    "import string, random\n",
    "res = ''.join(random.choice(string.ascii_uppercase + string.digits) for x in range(6))\n",
    "print(res)"
   ]
  },
  {
   "cell_type": "code",
   "execution_count": 11,
   "metadata": {},
   "outputs": [
    {
     "name": "stdout",
     "output_type": "stream",
     "text": [
      "notok\n"
     ]
    }
   ],
   "source": [
    "# if not \"blah\" in 'fjablah'’:\n",
    "#     print('ok')\n",
    "# else:\n",
    "#     print('notok')\n",
    "if \"blah\" not in 'fablahfjak': \n",
    "    print('ok')\n",
    "else:\n",
    "    print('notok')"
   ]
  },
  {
   "cell_type": "code",
   "execution_count": 12,
   "metadata": {},
   "outputs": [
    {
     "name": "stdout",
     "output_type": "stream",
     "text": [
      "Found 'is' in the string.\n"
     ]
    }
   ],
   "source": [
    "s = \"This be a string\"\n",
    "if s.find(\"is\") == -1:\n",
    "    print (\"No 'is' here!\")\n",
    "else:\n",
    "    print (\"Found 'is' in the string.\")"
   ]
  },
  {
   "cell_type": "code",
   "execution_count": 13,
   "metadata": {},
   "outputs": [
    {
     "name": "stdout",
     "output_type": "stream",
     "text": [
      "True\n",
      "False\n"
     ]
    }
   ],
   "source": [
    "def is_number(s):\n",
    "    try:\n",
    "        float(s)\n",
    "        return True\n",
    "    except ValueError:\n",
    "        return False\n",
    "print(is_number(738.839))\n",
    "print(is_number('fa21'))"
   ]
  },
  {
   "cell_type": "code",
   "execution_count": 14,
   "metadata": {},
   "outputs": [
    {
     "name": "stdout",
     "output_type": "stream",
     "text": [
      "[2, 3, 1, 4]\n"
     ]
    }
   ],
   "source": [
    "import random\n",
    "a = [1,2,3,4]\n",
    "random.shuffle(a)\n",
    "print(a)"
   ]
  },
  {
   "cell_type": "code",
   "execution_count": 15,
   "metadata": {
    "scrolled": true
   },
   "outputs": [
    {
     "name": "stdout",
     "output_type": "stream",
     "text": [
      "['Hey', 'you', 'what', 'are', 'you', 'doing', 'here']\n"
     ]
    }
   ],
   "source": [
    "import re\n",
    "DATA = \"Hey, you - what are you doing here!?\"\n",
    "print(re.findall(r\"[\\w']+\", DATA))"
   ]
  },
  {
   "cell_type": "code",
   "execution_count": 16,
   "metadata": {},
   "outputs": [
    {
     "name": "stdout",
     "output_type": "stream",
     "text": [
      "rl\n"
     ]
    }
   ],
   "source": [
    "a = 'hello world'\n",
    "print(a[-3:-1])"
   ]
  },
  {
   "cell_type": "code",
   "execution_count": 17,
   "metadata": {},
   "outputs": [
    {
     "name": "stdout",
     "output_type": "stream",
     "text": [
      "0000000004\n",
      "004\n"
     ]
    }
   ],
   "source": [
    "print(\"{0:010d}\".format(4))\n",
    "a = '4'\n",
    "print(a.zfill(3))"
   ]
  },
  {
   "cell_type": "code",
   "execution_count": 18,
   "metadata": {},
   "outputs": [
    {
     "data": {
      "text/plain": [
       "'2018-08-11 21:32:37'"
      ]
     },
     "execution_count": 18,
     "metadata": {},
     "output_type": "execute_result"
    }
   ],
   "source": [
    "import time\n",
    "time.strftime('%Y-%m-%d %H:%M:%S',time.localtime())"
   ]
  },
  {
   "cell_type": "code",
   "execution_count": 19,
   "metadata": {},
   "outputs": [
    {
     "name": "stdout",
     "output_type": "stream",
     "text": [
      "['bootmgr', 'BOOTNXT', 'chromedriver.exe', 'DBAR_Ver.txt', 'dell.sdr', 'hiberfil.sys', 'InstallConfig.ini', 'pagefile.sys', 'swapfile.sys']\n"
     ]
    }
   ],
   "source": [
    "from os import listdir\n",
    "from os.path import isfile, join\n",
    "onlyfiles = [f for f in listdir('c:\\\\') if isfile(join('c:\\\\',f))]\n",
    "print(onlyfiles)"
   ]
  },
  {
   "cell_type": "code",
   "execution_count": 20,
   "metadata": {},
   "outputs": [
    {
     "name": "stdout",
     "output_type": "stream",
     "text": [
      "c:\\ ||| ['$360Section', '$GetCurrent', '$Recycle.Bin', '15175809f16976ff92ba50b87773', '360SANDBOX', '5c3b3a8efd8bb335d8db150455', '798491cc2be876aa5fe9', '8f7d27d5108bb832b0f57cc6c1111ec7', '8fe338943d05999646c025a65d857adb', 'a', 'Apps', 'DELL', 'Documents and Settings', 'Drivers', 'DTLFolder', 'e900b2aeb80d78638ee7', 'e9bc37396aa37bf0ffad', 'f74b0d88bc1491205430652fb5140ba7', 'Git', 'inetpub', 'Intel', 'MASM611', 'MongoDB', 'MyDownloads', 'MySQL-Front', 'Notepad++', 'PerfLogs', 'phantomjs-2.1.1-windows', 'pip', 'Program Files', 'Program Files (x86)', 'ProgramData', 'Proxifier', 'Python27', 'Python34', 'python36', 'Python36-32', 'Sublime Text 3', 'SymCache', 'System Recovery', 'System Volume Information', 'Temp', 'toolsdown', 'Users', 'Windows', 'xshell5'] ||| ['bootmgr', 'BOOTNXT', 'chromedriver.exe', 'DBAR_Ver.txt', 'dell.sdr', 'hiberfil.sys', 'InstallConfig.ini', 'pagefile.sys', 'swapfile.sys']\n"
     ]
    }
   ],
   "source": [
    "from os import walk\n",
    "\n",
    "f = []\n",
    "for (dirpath, dirnames, filenames) in walk('c:\\\\'):\n",
    "    print(dirpath,'|||',dirnames,'|||',filenames)\n",
    "    break\n",
    "    f.extend(filenames)\n",
    "    break"
   ]
  },
  {
   "cell_type": "code",
   "execution_count": 21,
   "metadata": {},
   "outputs": [
    {
     "name": "stdout",
     "output_type": "stream",
     "text": [
      "['c:\\\\DBAR_Ver.txt']\n"
     ]
    }
   ],
   "source": [
    "import glob\n",
    "print(glob.glob(\"c:\\\\*.txt\"))"
   ]
  },
  {
   "cell_type": "code",
   "execution_count": 22,
   "metadata": {},
   "outputs": [],
   "source": [
    "\"\"\"\n",
    "windows下实现mkdir -p的操作\n",
    "\"\"\"\n",
    "import os\n",
    "def my_mkdir(dir):\n",
    "    dirs = dir.split('\\\\')\n",
    "    if os.path.isdir(dirs[0]):\n",
    "        for i in range(1,len(dirs)):\n",
    "            name = os.path.abspath(dirs[0])\n",
    "            for j in range(1,i+1):\n",
    "                if name.endswith('\\\\'):\n",
    "                    name += dirs[j] + '\\\\'\n",
    "                else:\n",
    "                    name += '\\\\'+ dirs[j]\n",
    "            if os.path.isdir(name):\n",
    "                continue\n",
    "            else:\n",
    "                os.mkdir(name)\n",
    "    else:\n",
    "        for i in range(len(dirs)):\n",
    "            name = os.path.abspath('.\\\\')\n",
    "            for j in range(i+1):\n",
    "                name += '\\\\'+dir.split('\\\\')[j]\n",
    "            os.mkdir(name)\n",
    "\n",
    "# pwd = os.path.abspath('.\\\\').split('\\\\')[-1]\n",
    "\n",
    "my_mkdir('c:\\\\a\\\\c\\\\d')\n",
    "my_mkdir('c:\\\\a\\\\c\\\\f\\\\g')\n",
    "my_mkdir('a\\\\b\\\\c')\n",
    "my_mkdir('a\\\\d\\\\e')\n"
   ]
  },
  {
   "cell_type": "code",
   "execution_count": 23,
   "metadata": {},
   "outputs": [],
   "source": [
    "# count = 0\n",
    "# with open('app.py','r',encoding='utf-8') as f:\n",
    "#     for line in f:\n",
    "#         count += 1\n",
    "#     print(count)"
   ]
  },
  {
   "cell_type": "code",
   "execution_count": 24,
   "metadata": {},
   "outputs": [
    {
     "name": "stdout",
     "output_type": "stream",
     "text": [
      "十六进制的十进制数 4783\n",
      "八进制的十进制数 695\n"
     ]
    }
   ],
   "source": [
    "print('十六进制的十进制数',0x12AF)\n",
    "print('八进制的十进制数',0O1267)"
   ]
  },
  {
   "cell_type": "code",
   "execution_count": 25,
   "metadata": {},
   "outputs": [
    {
     "name": "stdout",
     "output_type": "stream",
     "text": [
      "10\n",
      "10\n",
      "16\n"
     ]
    }
   ],
   "source": [
    "print(int('a',16))\n",
    "print(int('0xa',16))\n",
    "# print(int('a'))\n",
    "print(int(16))"
   ]
  },
  {
   "cell_type": "code",
   "execution_count": 26,
   "metadata": {},
   "outputs": [
    {
     "name": "stdout",
     "output_type": "stream",
     "text": [
      "0.6666666666666666\n"
     ]
    }
   ],
   "source": [
    "a = 4\n",
    "b = 6\n",
    "c = a/b\n",
    "print(c)"
   ]
  },
  {
   "cell_type": "code",
   "execution_count": 27,
   "metadata": {},
   "outputs": [],
   "source": [
    "#有什么用？\n",
    "from __future__ import division\n",
    "a = 4\n",
    "b = 6\n",
    "# c = a.division(b)\n",
    "# print(c)"
   ]
  },
  {
   "cell_type": "code",
   "execution_count": 28,
   "metadata": {},
   "outputs": [
    {
     "name": "stdout",
     "output_type": "stream",
     "text": [
      "13.95\n",
      "13.95\n"
     ]
    }
   ],
   "source": [
    "a=13.946\n",
    "print(\"{0:.2f}\".format(a))\n",
    "print(\"{0:.2f}\".format(round(a,2)))"
   ]
  },
  {
   "cell_type": "code",
   "execution_count": 29,
   "metadata": {},
   "outputs": [
    {
     "name": "stdout",
     "output_type": "stream",
     "text": [
      "[1, 2, 3, 5, 7, 11, 13, 17, 19, 23, 29, 31, 37, 41, 43, 47, 53, 59, 61, 67, 71, 73, 79, 83, 89, 97]\n"
     ]
    }
   ],
   "source": [
    "#获取素数\n",
    "def get_su(num):\n",
    "    no = []\n",
    "    for i in range(1,num):\n",
    "        for j in range(2,i-1):\n",
    "            if i % j == 0:\n",
    "                no.append(i)\n",
    "                break\n",
    "\n",
    "    res = list(i for i in range(1,num))\n",
    "    for i in no:\n",
    "        res.remove(i)\n",
    "    return res\n",
    "print(get_su(100))"
   ]
  },
  {
   "cell_type": "code",
   "execution_count": 30,
   "metadata": {},
   "outputs": [
    {
     "name": "stdout",
     "output_type": "stream",
     "text": [
      "列表为空\n"
     ]
    }
   ],
   "source": [
    "#判断列表为空，不要用len判断\n",
    "a = []\n",
    "if not a:\n",
    "    print('列表为空')"
   ]
  },
  {
   "cell_type": "code",
   "execution_count": 31,
   "metadata": {},
   "outputs": [
    {
     "name": "stdout",
     "output_type": "stream",
     "text": [
      "1\n",
      "2\n",
      "3\n",
      "4\n",
      "5\n",
      "6\n"
     ]
    }
   ],
   "source": [
    "l1 = [1,2,3]\n",
    "l2 = [4,5,6]\n",
    "# l1 + l2\n",
    "\n",
    "# 会修改l1\n",
    "# l1.extend(l2)\n",
    "# print(l1)\n",
    "\n",
    "import itertools\n",
    "for item in itertools.chain(l1, l2):\n",
    "    print(item)"
   ]
  },
  {
   "cell_type": "code",
   "execution_count": 32,
   "metadata": {},
   "outputs": [
    {
     "name": "stdout",
     "output_type": "stream",
     "text": [
      "6\n"
     ]
    }
   ],
   "source": [
    "a = [1,2,3]\n",
    "# 都行\n",
    "# copy deepcopy\n",
    "# b = list(a)\n",
    "# b = a\n",
    "# b = a[:]\n",
    "print(b)"
   ]
  },
  {
   "cell_type": "code",
   "execution_count": 33,
   "metadata": {},
   "outputs": [
    {
     "name": "stdout",
     "output_type": "stream",
     "text": [
      "e\n"
     ]
    }
   ],
   "source": [
    "foo = ['a', 'b', 'c', 'd', 'e']\n",
    "from random import choice\n",
    "print(choice(foo))"
   ]
  },
  {
   "cell_type": "code",
   "execution_count": 34,
   "metadata": {},
   "outputs": [
    {
     "data": {
      "text/plain": [
       "[range(10, 20),\n",
       " range(20, 30),\n",
       " range(30, 40),\n",
       " range(40, 50),\n",
       " range(50, 60),\n",
       " range(60, 70),\n",
       " range(70, 75)]"
      ]
     },
     "execution_count": 34,
     "metadata": {},
     "output_type": "execute_result"
    }
   ],
   "source": [
    "def split_same(l,n):\n",
    "    res = [l[n*i:n*(i+1)] for i in range(len(l)//n)]\n",
    "    if len(l) % n != 0:\n",
    "        last = l[-(len(l) % n):]\n",
    "        res.append(last)\n",
    "    print(res)\n",
    "\n",
    "def chunks(l, n):\n",
    "    return [l[i:i+n] for i in range(0, len(l), n)]\n",
    "l = [i for i in range(30)]\n",
    "# print(chunks(l,4))\n",
    "\n",
    "def chunks(l, n):\n",
    "    \"\"\" Yield successive n-sized chunks from l.\n",
    "    \"\"\"\n",
    "    for i in range(0, len(l), n):\n",
    "        yield l[i:i+n]\n",
    "list(chunks(range(10, 75), 10))\n",
    "\n",
    "# 不报错！！！！\n",
    "# print(l[20:100])"
   ]
  },
  {
   "cell_type": "code",
   "execution_count": 35,
   "metadata": {},
   "outputs": [
    {
     "name": "stdout",
     "output_type": "stream",
     "text": [
      "[4, 5, 2, 5, 6, 7, 32, 4, 2, 3]\n"
     ]
    }
   ],
   "source": [
    "#扁平二维列表\n",
    "def l_m2o(l):\n",
    "    res = [i for j in l for i in j]\n",
    "    print(res)\n",
    "    \n",
    "l = [[4,5,2],[5,6,7],[32,4],[2,3]]\n",
    "l_m2o(l)"
   ]
  },
  {
   "cell_type": "code",
   "execution_count": 36,
   "metadata": {},
   "outputs": [
    {
     "name": "stdout",
     "output_type": "stream",
     "text": [
      "<map object at 0x0000008E0E37E240>\n",
      "[5, 7, 9]\n"
     ]
    }
   ],
   "source": [
    "res = map(lambda x,y:x+y,[1,2,3,4],[4,5,6])\n",
    "print(res)\n",
    "print(list(res))"
   ]
  },
  {
   "cell_type": "code",
   "execution_count": 37,
   "metadata": {},
   "outputs": [
    {
     "name": "stdout",
     "output_type": "stream",
     "text": [
      "[1, [...], 2]\n"
     ]
    }
   ],
   "source": [
    "p  = [1, 2]\n",
    "p[1:1] = [p]\n",
    "print(p)\n",
    "# [...]无限嵌套不可打印的列表"
   ]
  },
  {
   "cell_type": "code",
   "execution_count": 38,
   "metadata": {},
   "outputs": [
    {
     "name": "stdout",
     "output_type": "stream",
     "text": [
      "3.9370039370059056\n"
     ]
    }
   ],
   "source": [
    "from collections import namedtuple\n",
    "Point = namedtuple('Point', 'x y z')\n",
    "pt1 = Point(1.0, 5.0, 3.0)\n",
    "pt2 = Point(2.5, 1.5, 4.0)\n",
    "\n",
    "from math import sqrt\n",
    "line_length = sqrt((pt1.x-pt2.x)**2 + (pt1.y-pt2.y)**2 + (pt1.z-pt2.z)**2)\n",
    "print(line_length)"
   ]
  },
  {
   "cell_type": "code",
   "execution_count": 39,
   "metadata": {},
   "outputs": [
    {
     "name": "stdout",
     "output_type": "stream",
     "text": [
      "2.0\n"
     ]
    }
   ],
   "source": [
    "# 可变元组\n",
    "from recordtype import recordtype\n",
    "Point = recordtype('Point', 'x y')\n",
    "pt1 = Point(1.0, 5.0)\n",
    "pt1 = Point(1.0, 5.0)\n",
    "pt1.x = 2.0\n",
    "print(pt1.x)"
   ]
  },
  {
   "cell_type": "code",
   "execution_count": 40,
   "metadata": {},
   "outputs": [
    {
     "name": "stdout",
     "output_type": "stream",
     "text": [
      "['3', '3']\n",
      "{'a': 20, 'b': 2, 'c': ['3', '3']}\n",
      "abc\n"
     ]
    }
   ],
   "source": [
    "d = {'a':1,'b':2}\n",
    "#获取时,如不存在，得到默认值\n",
    "d.get('a', 0)\n",
    "#设置时，若key不存在，设置默认值，已存在，返回已存在value\n",
    "d.setdefault('c', []).append('3')\n",
    "d.setdefault('c', []).append('3')\n",
    "print(d.get('c'))\n",
    "\n",
    "# 更新\n",
    "d.update({'a':10})\n",
    "# 设置\n",
    "d['a'] = 20\n",
    "print(d)\n",
    "#初始即默认值\n",
    "from collections import defaultdict\n",
    "d = defaultdict(lambda: 'abc') # 0.'abc',None都行\n",
    "print(d['a'])\n",
    "#or d = defaultdict(int)\n",
    "# print(d)"
   ]
  },
  {
   "cell_type": "code",
   "execution_count": 41,
   "metadata": {},
   "outputs": [
    {
     "name": "stdout",
     "output_type": "stream",
     "text": [
      "{'a': 1, 'b': 2, 'c': 3, 'd': 4}\n",
      "{'a': 2, 'b': 2, 'c': 3, 'd': 4, 'e': 5}\n"
     ]
    }
   ],
   "source": [
    "d1 = {'a':1,'b':2}\n",
    "d2 = {'c':3,'d':4}\n",
    "d3 = {'a':2,'e':5}\n",
    "d1.update(d2)\n",
    "print(d1)\n",
    "\n",
    "# 若key相同，以括号中的为准，根据d3更新d1\n",
    "d1.update(d3)\n",
    "print(d1)\n"
   ]
  },
  {
   "cell_type": "code",
   "execution_count": 42,
   "metadata": {},
   "outputs": [
    {
     "name": "stdout",
     "output_type": "stream",
     "text": [
      "{'a': 2, 'b': 2, 'e': 5}\n"
     ]
    }
   ],
   "source": [
    "d1 = {'a':1,'b':2}\n",
    "d2 = {'a':2,'e':5}\n",
    "\n",
    "# 以后面的为准\n",
    "z = dict(list(d1.items()) + list(d2.items()))\n",
    "print(z)"
   ]
  },
  {
   "cell_type": "code",
   "execution_count": 43,
   "metadata": {},
   "outputs": [
    {
     "name": "stdout",
     "output_type": "stream",
     "text": [
      "{'name': 'Monty', 'age': 42, 'food': 'spam'}\n"
     ]
    }
   ],
   "source": [
    "keys = ('name', 'age', 'food')\n",
    "values = ('Monty', 42, 'spam')\n",
    "print(dict(zip(keys,values)))"
   ]
  },
  {
   "cell_type": "code",
   "execution_count": 44,
   "metadata": {},
   "outputs": [
    {
     "name": "stdout",
     "output_type": "stream",
     "text": [
      "ok\n"
     ]
    }
   ],
   "source": [
    "class foo(object):\n",
    "    def abc(self):\n",
    "        print(\"ok\")\n",
    "\n",
    "a = foo()\n",
    "if hasattr(a,'abc'):\n",
    "    getattr(a,'abc')()\n",
    "else:\n",
    "    print(\"no!!!!\")"
   ]
  },
  {
   "cell_type": "code",
   "execution_count": 45,
   "metadata": {},
   "outputs": [
    {
     "name": "stdout",
     "output_type": "stream",
     "text": [
      "3 4 5\n",
      "1\n"
     ]
    }
   ],
   "source": [
    "def bar(x,*args,**kwargs):\n",
    "    print(x,y,z)\n",
    "    print(kwargs['a'])\n",
    "\n",
    "x = 3\n",
    "y = 4\n",
    "z = 5\n",
    "bar(x,y,z,a=1, b=2)"
   ]
  },
  {
   "cell_type": "code",
   "execution_count": 46,
   "metadata": {},
   "outputs": [
    {
     "name": "stdout",
     "output_type": "stream",
     "text": [
      "1 2\n"
     ]
    }
   ],
   "source": [
    "def bar2(x,y):\n",
    "    print(x,y)\n",
    "\n",
    "l = [1,2]\n",
    "bar2(*l)"
   ]
  },
  {
   "cell_type": "code",
   "execution_count": 47,
   "metadata": {},
   "outputs": [
    {
     "name": "stdout",
     "output_type": "stream",
     "text": [
      "1 [2, 3, 4]\n",
      "1 [2, 3] 4\n"
     ]
    }
   ],
   "source": [
    "first, *rest = [1,2,3,4]\n",
    "print(first,rest)\n",
    "first, *l, last = [1,2,3,4]\n",
    "print(first,l,last)"
   ]
  },
  {
   "cell_type": "code",
   "execution_count": 48,
   "metadata": {},
   "outputs": [
    {
     "name": "stdout",
     "output_type": "stream",
     "text": [
      "before, outer_list = ['one', 'two', 'three']\n",
      "got ['one', 'two', 'three']\n",
      "changed to ['one', 'two', 'three', 'four', 'five', 'six']\n",
      "after, outer_list = ['one', 'two', 'three', 'four', 'five']\n"
     ]
    }
   ],
   "source": [
    "def try_to_change_list_contents(the_list):\n",
    "    print ('got', the_list)\n",
    "    # 原地修改，影响外部数据\n",
    "    the_list.append('four')\n",
    "    the_list += ['five']\n",
    "    # 重新指向，对外部数据不修改\n",
    "    the_list = the_list + ['six']\n",
    "    print ('changed to', the_list)\n",
    "\n",
    "outer_list = ['one', 'two', 'three']\n",
    "print ('before, outer_list =', outer_list)\n",
    "try_to_change_list_contents(outer_list)\n",
    "print ('after, outer_list =', outer_list)"
   ]
  },
  {
   "cell_type": "code",
   "execution_count": 49,
   "metadata": {},
   "outputs": [
    {
     "name": "stdout",
     "output_type": "stream",
     "text": [
      "before, outer_string = It was many and many a year ago\n",
      "got It was many and many a year ago\n",
      "set to In a kingdom by the seaaaaaaa\n",
      "after, outer_string = It was many and many a year ago\n"
     ]
    }
   ],
   "source": [
    "def try_to_change_string_reference(the_string):\n",
    "    print ('got', the_string)\n",
    "    # 不可变类型，一修改便重新指向，无法影响外部的数据\n",
    "    the_string = 'In a kingdom by the sea'\n",
    "    the_string += 'aaaaaa'\n",
    "    print ('set to', the_string)\n",
    "\n",
    "outer_string = 'It was many and many a year ago'\n",
    "print ('before, outer_string =', outer_string)\n",
    "try_to_change_string_reference(outer_string)\n",
    "print ('after, outer_string =', outer_string)"
   ]
  },
  {
   "cell_type": "code",
   "execution_count": 50,
   "metadata": {},
   "outputs": [
    {
     "name": "stdout",
     "output_type": "stream",
     "text": [
      "True\n",
      "False\n",
      "True\n",
      "True\n"
     ]
    }
   ],
   "source": [
    "class Test(object):\n",
    "    pass\n",
    "\n",
    "class Test2(Test):\n",
    "    pass\n",
    "\n",
    "t = Test()\n",
    "t2 = Test2()\n",
    "print(type(t) is Test)\n",
    "print(type(t2) is Test)\n",
    "print(isinstance(t,Test))\n",
    "print(isinstance(t2,Test))\n",
    "# isinstance为子类服务，type不能为子类服务"
   ]
  },
  {
   "cell_type": "code",
   "execution_count": 51,
   "metadata": {},
   "outputs": [
    {
     "name": "stdout",
     "output_type": "stream",
     "text": [
      "user1\n"
     ]
    }
   ],
   "source": [
    "class Test3(object):\n",
    "    # 不一定非要是self，abc也行，但一定得有，放在第一个位置上\n",
    "    def __init__(abc,name):\n",
    "        abc.name = name\n",
    "\n",
    "t = Test3('user1')\n",
    "print(t.name)"
   ]
  },
  {
   "cell_type": "code",
   "execution_count": 52,
   "metadata": {},
   "outputs": [
    {
     "name": "stdout",
     "output_type": "stream",
     "text": [
      "public method\n",
      "this is private!!\n",
      "this is private!!\n",
      "['_MyClass__myPrivateMethod', '__class__', '__delattr__', '__dict__', '__dir__', '__doc__', '__eq__', '__format__', '__ge__', '__getattribute__', '__gt__', '__hash__', '__init__', '__init_subclass__', '__le__', '__lt__', '__module__', '__ne__', '__new__', '__reduce__', '__reduce_ex__', '__repr__', '__setattr__', '__sizeof__', '__str__', '__subclasshook__', '__weakref__', 'get_private', 'myPublicMethod']\n"
     ]
    }
   ],
   "source": [
    "class MyClass(object):\n",
    "    def myPublicMethod(self):\n",
    "        print ('public method')\n",
    "\n",
    "    def __myPrivateMethod(self):\n",
    "        print ('this is private!!')\n",
    "\n",
    "    def get_private(self):\n",
    "        self.__myPrivateMethod()\n",
    "\n",
    "m = MyClass()\n",
    "m.myPublicMethod()\n",
    "\n",
    "# 获取私有方法，属性也是一样的\n",
    "m._MyClass__myPrivateMethod()\n",
    "m.get_private()\n",
    "# 所有的方法\n",
    "print(dir(m))\n",
    "# ‘private'只是用作，确保子类不会意外覆写父类的私有方法和属性.不是为了保护外部意外访问而设计的！"
   ]
  },
  {
   "cell_type": "code",
   "execution_count": 53,
   "metadata": {},
   "outputs": [
    {
     "name": "stdout",
     "output_type": "stream",
     "text": [
      "NEW\n",
      "INIT\n",
      "\n",
      "EXISTS\n",
      "INIT\n",
      "\n",
      "EXISTS\n",
      "INIT\n",
      "\n"
     ]
    }
   ],
   "source": [
    "class A(object):\n",
    "    _dict = dict()\n",
    "\n",
    "    def __new__(cls):\n",
    "        if 'key' in A._dict:\n",
    "            print (\"EXISTS\")\n",
    "            return A._dict['key']\n",
    "        else:\n",
    "            print (\"NEW\")\n",
    "            return super(A, cls).__new__(cls)\n",
    "\n",
    "    def __init__(self):\n",
    "        print (\"INIT\")\n",
    "        A._dict['key'] = self\n",
    "        print (\"\")\n",
    "\n",
    "a1 = A()\n",
    "a2 = A()\n",
    "a3 = A()\n",
    "# __new__最先被调用"
   ]
  },
  {
   "cell_type": "code",
   "execution_count": 54,
   "metadata": {},
   "outputs": [
    {
     "name": "stdout",
     "output_type": "stream",
     "text": [
      "Base created\n",
      "<__main__.ChildB object at 0x0000008E0E5A7F60>\n"
     ]
    }
   ],
   "source": [
    "class Base(object):\n",
    "    def __init__(self):\n",
    "        print (\"Base created\")\n",
    "        \n",
    "class ChildB(Base):\n",
    "    def __init__(self):\n",
    "        super(ChildB, self).__init__()\n",
    "\n",
    "b = ChildB() # 打印Base created\n",
    "print(b) \n",
    "# Super让你避免明确地引用基类，这是一点。最大的优势是，当出现多重继承的时候，各种有趣的情况就会出现。"
   ]
  },
  {
   "cell_type": "code",
   "execution_count": 55,
   "metadata": {},
   "outputs": [
    {
     "name": "stdout",
     "output_type": "stream",
     "text": [
      "yes\n"
     ]
    }
   ],
   "source": [
    "import collections\n",
    "e = 'aasssdd'\n",
    "if isinstance(e, collections.Iterable):\n",
    "    print('yes')\n",
    "else:\n",
    "    print('no')\n",
    "\n",
    "# if isinstance(e,collections.Iterator):\n",
    "#     print('Iterator')\n",
    "# if isinstance(e,collections.Generator):\n",
    "#     print('Generator')    \n",
    "# 判断是否可迭代，迭代器，生成器"
   ]
  },
  {
   "cell_type": "code",
   "execution_count": 56,
   "metadata": {},
   "outputs": [
    {
     "name": "stdout",
     "output_type": "stream",
     "text": [
      "文本数据的读取方法\n",
      "硬盘数据的读取方法\n",
      "file\n",
      "file\n",
      "I walk like a duck\n",
      "i swim like a duck\n",
      "this one walk like a duck\n",
      "this man swim like a duck\n"
     ]
    }
   ],
   "source": [
    "\"\"\"\n",
    "抽象类是通过定义抽象方法，要求子类必须继承，从而达到归一化的效果。\n",
    "抽象类是从上往下，定义好了应该要实现的方法，子类必须根据要求来实现。\n",
    "接口是从下往上，去找不同类中相同的方法，调用方法相同，但实际的内容不同。\n",
    "\"\"\"\n",
    "# 抽象类\n",
    "import abc #利用abc模块实现抽象类\n",
    "\n",
    "class All_file(metaclass=abc.ABCMeta):\n",
    "    all_type = 'file'\n",
    "    @abc.abstractmethod #定义抽象方法，无需实现功能\n",
    "    def read(self):\n",
    "        '子类必须定义读功能'\n",
    "        pass\n",
    "\n",
    "    @abc.abstractmethod #定义抽象方法，无需实现功能\n",
    "    def write(self):\n",
    "        '子类必须定义写功能'\n",
    "        pass\n",
    "\n",
    "# class Txt(All_file):\n",
    "#     pass\n",
    "#\n",
    "# t1=Txt() #报错,子类没有定义抽象方法\n",
    "\n",
    "class Txt(All_file): #子类继承抽象类，但是必须定义read和write方法\n",
    "    def read(self):\n",
    "        print('文本数据的读取方法')\n",
    "\n",
    "    def write(self):\n",
    "        print('文本数据的读取方法')\n",
    "\n",
    "class Sata(All_file): #子类继承抽象类，但是必须定义read和write方法\n",
    "    def read(self):\n",
    "        print('硬盘数据的读取方法')\n",
    "\n",
    "    def write(self):\n",
    "        print('硬盘数据的读取方法')\n",
    "        \n",
    "wenbenwenjian=Txt()\n",
    "yingpanwenjian=Sata()\n",
    "#这样大家都是被归一化了,也就是一切皆文件的思想\n",
    "wenbenwenjian.read()\n",
    "yingpanwenjian.write()\n",
    "print(wenbenwenjian.all_type)\n",
    "print(yingpanwenjian.all_type)\n",
    "\n",
    "# 鸭子模型,接口\n",
    "class Duck():\n",
    "  def walk(self):\n",
    "    print('I walk like a duck')\n",
    "  def swim(self):\n",
    "    print('i swim like a duck')\n",
    "\n",
    "class Person():\n",
    "  def walk(self):\n",
    "    print('this one walk like a duck')\n",
    "  def swim(self):\n",
    "    print('this man swim like a duck')\n",
    "\n",
    "d = Duck()\n",
    "p = Person()\n",
    "\n",
    "# 并不在意是Duck的实例对象还是Person的实例对象,只要有walk和swim方法就行\n",
    "# 接口\n",
    "def test(arg):\n",
    "    arg.walk()\n",
    "    arg.swim()\n",
    "\n",
    "test(d)\n",
    "test(p)"
   ]
  },
  {
   "cell_type": "code",
   "execution_count": 57,
   "metadata": {},
   "outputs": [
    {
     "name": "stdout",
     "output_type": "stream",
     "text": [
      "class D\n",
      "class D1\n"
     ]
    }
   ],
   "source": [
    "# 因为在python3.x之后全是新式类，测试不出结果，继承搜索方式都是广度优先再往上搜索，\n",
    "# C1没有找D1，D1有，所以执行。\n",
    "# 此处所以打印的都是最后继承的class D中的输出，如果在python2中，经典类是深度优先，会\n",
    "# 先找到C1，但是C1没有此方法，继续往上找到A，执行A中的foo方法，如果A没有的话，回\n",
    "# 到最下面找D1，再没有再往上，一直没有就报错\n",
    "class A(object):\n",
    "    \"\"\"\n",
    "\t新式类\n",
    "    作为所有类的基类\n",
    "    \"\"\"\n",
    "    def foo(self):\n",
    "        print (\"class A\")\n",
    "\n",
    "class A1():\n",
    "    \"\"\"\n",
    "\t经典类\n",
    "    作为所有类的基类\n",
    "    \"\"\"\n",
    "    def foo(self):\n",
    "        print (\"class A1\")\n",
    "\n",
    "class C(A):\n",
    "    pass\n",
    "\n",
    "class C1(A1):\n",
    "    pass\n",
    "\n",
    "class D(A):\n",
    "    def foo(self):\n",
    "        print (\"class D\")\n",
    "\n",
    "class D1(A1):\n",
    "    def foo(self):\n",
    "        print (\"class D1\")\n",
    "\n",
    "class E(C, D):\n",
    "    pass\n",
    "\n",
    "class E1(C1, D1):\n",
    "    pass\n",
    "\n",
    "e = E()\n",
    "e.foo()\n",
    "\n",
    "e1 = E1()\n",
    "e1.foo()"
   ]
  },
  {
   "cell_type": "code",
   "execution_count": 58,
   "metadata": {},
   "outputs": [
    {
     "name": "stdout",
     "output_type": "stream",
     "text": [
      "this is test2\n",
      "this is test name1\n",
      "name1\n"
     ]
    }
   ],
   "source": [
    "# 给实例添加方法与属性\n",
    "class Test4(object):\n",
    "    pass\n",
    "\n",
    "t = Test4()\n",
    "\n",
    "def test(self):\n",
    "    print(\"this is test\",self.name)\n",
    "    \n",
    "def test2():\n",
    "    print(\"this is test2\")\n",
    "\n",
    "# 给类添加方法，所有的实例都能调用    \n",
    "Test4.test2 = test2()\n",
    "\n",
    "t.name = \"name1\"\n",
    "# 给实例添加方法，只有当前实例能用\n",
    "t.test = test(t)\n",
    "t.test\n",
    "t.test2\n",
    "print(t.name)"
   ]
  },
  {
   "cell_type": "code",
   "execution_count": 59,
   "metadata": {},
   "outputs": [
    {
     "name": "stdout",
     "output_type": "stream",
     "text": [
      "\u001b[95maaaaaaaa\u001b[0m\n",
      "\u001b[94maaaaaaaa\u001b[0m\n",
      "\u001b[91maaaaaaaa\u001b[0m\n"
     ]
    }
   ],
   "source": [
    "class bcolors(object):\n",
    "    HEADER = '\\033[95m'\n",
    "    OKBLUE = '\\033[94m'\n",
    "    OKGREEN = '\\033[92m'\n",
    "    WARNING = '\\033[93m'\n",
    "    FAIL = '\\033[91m'\n",
    "    ENDC = '\\033[0m'\n",
    "\n",
    "b = bcolors()\n",
    "print(\"{0}aaaaaaaa{1}\".format(b.HEADER,b.ENDC))\n",
    "print(\"{0}aaaaaaaa{1}\".format(b.OKBLUE,b.ENDC))\n",
    "print(\"{0}aaaaaaaa{1}\".format(b.FAIL,b.ENDC))"
   ]
  },
  {
   "cell_type": "code",
   "execution_count": 60,
   "metadata": {},
   "outputs": [
    {
     "name": "stdout",
     "output_type": "stream",
     "text": [
      "True\n",
      "False\n",
      "True\n",
      "False\n"
     ]
    }
   ],
   "source": [
    "# 模板，具体方法具体改\n",
    "class UpperAttrMetaclass(type):\n",
    "    # cls future_class_name, future_class_parents, future_class_attr\n",
    "    # cls 需要实例化的类,python解释器提供\n",
    "    # clsname 类名即下文的Test\n",
    "    # bases 父类即object\n",
    "    # dct 参数,如下文的abc,bcd\n",
    "    def __new__(cls, clsname, bases, dct):\n",
    "        uppercase_attr = {}\n",
    "        for name, val in dct.items():\n",
    "            if not name.startswith('__'):\n",
    "                uppercase_attr[name.upper()] = val\n",
    "            else:\n",
    "                uppercase_attr[name] = val\n",
    "        return super(UpperAttrMetaclass, cls).__new__(cls, clsname, bases, uppercase_attr)\n",
    "\n",
    "# python2\n",
    "# class Test():\n",
    "#     __metaclass__=UpperAttrMetaclass\n",
    "    \n",
    "class Test(object,metaclass=UpperAttrMetaclass):\n",
    "    abc = \"I dont Know\"\n",
    "    def bcd(self):\n",
    "        print(\"this is bcd\")\n",
    "\n",
    "print(hasattr(Test,'ABC')) # True\n",
    "print(hasattr(Test,'abc')) # False\n",
    "print(hasattr(Test,'BCD')) # True\n",
    "print(hasattr(Test,'bcd')) # False"
   ]
  },
  {
   "cell_type": "code",
   "execution_count": null,
   "metadata": {},
   "outputs": [],
   "source": []
  }
 ],
 "metadata": {
  "kernelspec": {
   "display_name": "Python 3",
   "language": "python",
   "name": "python3"
  },
  "language_info": {
   "codemirror_mode": {
    "name": "ipython",
    "version": 3
   },
   "file_extension": ".py",
   "mimetype": "text/x-python",
   "name": "python",
   "nbconvert_exporter": "python",
   "pygments_lexer": "ipython3",
   "version": "3.6.5"
  }
 },
 "nbformat": 4,
 "nbformat_minor": 2
}
