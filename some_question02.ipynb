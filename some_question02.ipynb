{
 "cells": [
  {
   "cell_type": "code",
   "execution_count": 1,
   "metadata": {},
   "outputs": [
    {
     "name": "stdout",
     "output_type": "stream",
     "text": [
      "executing foo(0)\n",
      "executing foo(<__main__.A object at 0x00000097572AA860>,1)\n",
      "executing foo(<__main__.A object at 0x00000097572AA860>,6)\n",
      "xxx\n",
      "executing static_foo(static在cls中)\n",
      "executing foo(<__main__.A object at 0x00000097572AA860>,foo在cls中)\n",
      "executing class_foo(<class '__main__.A'>,2)\n",
      "executing static_foo(3)\n",
      "executing static_foo(4)\n",
      "xxx\n",
      "executing static_foo(static在cls中)\n",
      "executing foo(<__main__.A object at 0x00000097572AA860>,foo在cls中)\n",
      "executing class_foo(<class '__main__.A'>,5)\n"
     ]
    }
   ],
   "source": [
    "def foo(x):\n",
    "    print (\"executing foo(%s)\"%(x))\n",
    "\n",
    "class A(object):\n",
    "    abc = \"xxx\"\n",
    "    def foo(self,x):\n",
    "        print (\"executing foo(%s,%s)\"%(self,x))\n",
    "\n",
    "    @classmethod\n",
    "    def class_foo(cls,x):\n",
    "        print(cls.abc)\n",
    "        cls.static_foo('static在cls中')\n",
    "        cls.foo(a,'foo在cls中')\n",
    "        print (\"executing class_foo(%s,%s)\"%(cls,x))\n",
    "\n",
    "    @staticmethod\n",
    "    def static_foo(x):\n",
    "        print (\"executing static_foo(%s)\"%x)\n",
    "\n",
    "a=A()\n",
    "foo(\"0\")\n",
    "\n",
    "# 两种调用方式都可以\n",
    "a.foo(\"1\")\n",
    "A.foo(a,'6')\n",
    "\n",
    "# 实例对象可以调用类方法和静态方法\n",
    "a.class_foo(\"2\")\n",
    "a.static_foo(\"3\")\n",
    "\n",
    "# 静态方法不需要实例,但也只是存在于类中，通过类或实例对象调用，\n",
    "# 并不能访问类中的属性和方法\n",
    "A.static_foo('4')\n",
    "# 类方法不需要实例，且通过cls与类绑定，如调用类变量abc,调用方法foo，\n",
    "# 但因foo需要实例，所以得传入实例对象，既可被调用，也可调用其他\n",
    "A.class_foo('5')"
   ]
  },
  {
   "cell_type": "code",
   "execution_count": 2,
   "metadata": {},
   "outputs": [
    {
     "name": "stdout",
     "output_type": "stream",
     "text": [
      "0\n",
      "1\n",
      "jack 2\n",
      "jack 1000\n",
      "lucy 3\n",
      "zsan 3\n"
     ]
    }
   ],
   "source": [
    "class Test(object):\n",
    "    num_of_instance = 0\n",
    "    def __init__(self, name):\n",
    "        self.name = name\n",
    "        # 每声明一个实例，类变量加一\n",
    "        Test.num_of_instance += 1\n",
    "\n",
    "if __name__ == '__main__':\n",
    "    print(Test.num_of_instance)   # 0\n",
    "    t1 = Test('jack')\n",
    "    print(Test.num_of_instance)   # 1\n",
    "    t2 = Test('lucy')\n",
    "    print(t1.name, t1.num_of_instance)  # jack 2\n",
    "    \"\"\"\n",
    "    只修改t1的属性，其他实例对象的该属性不会改变,因为如果实例对象自身没有此属性，\n",
    "    会使用类的此属性，以下属于动态的给t1添加了一个实例属性，所以使用自己的，实例对象\n",
    "    没有权力修改类属性,一修改便等于重新指向，不再指向类变量了。\n",
    "    \"\"\"\n",
    "    t1.num_of_instance = 1000\n",
    "    t3 = Test('zsan')\n",
    "    print(t1.name, t1.num_of_instance)  # jack 1000\n",
    "    print(t2.name, t2.num_of_instance)  # lucy 3\n",
    "    print(t3.name, t3.num_of_instance)  # zsan 3"
   ]
  },
  {
   "cell_type": "code",
   "execution_count": 3,
   "metadata": {},
   "outputs": [
    {
     "name": "stdout",
     "output_type": "stream",
     "text": [
      "<class 'list'> <class 'dict'> <class 'bool'>\n",
      "True\n"
     ]
    }
   ],
   "source": [
    "\"\"\"\n",
    "python自省\n",
    "自省就是面向对象的语言所写的程序在运行时,所能知道对象的类型.\n",
    "简单一句就是运行时能够获得对象的类型.\n",
    "比如type(),dir(),getattr(),hasattr(),isinstance().\n",
    "\"\"\"\n",
    "\n",
    "a = [1,2,3]\n",
    "b = {'a':1,'b':2,'c':3}\n",
    "c = True\n",
    "print(type(a),type(b),type(c)) # <type 'list'> <type 'dict'> <type 'bool'>\n",
    "print(isinstance(a,list))  # True"
   ]
  },
  {
   "cell_type": "code",
   "execution_count": 1,
   "metadata": {},
   "outputs": [
    {
     "name": "stdout",
     "output_type": "stream",
     "text": [
      "{'a': 1, 'b': 2, 'c': 3}\n",
      "{'a': 1, 'b': 2, 'c': 3}\n",
      "{'a': 1, 'b': 2, 'c': 3}\n",
      "{0: 'a', 1: 'b', 2: 'c'}\n",
      "{'a': 10086, 'b': 10086}\n"
     ]
    }
   ],
   "source": [
    "keys = ['a','b','c']\n",
    "values = [1,2,3]\n",
    "d1 = dict(zip(keys,values))\n",
    "# 列表元组都可以\n",
    "d2 = dict(map(lambda x,y:[x,y],keys,values))\n",
    "d3 = dict(map(lambda x,y:(x,y),keys,values))\n",
    "# 下标从0开始，不是用上面两个列表转化的字典\n",
    "d4 = {key:value for key,value in enumerate(keys)}\n",
    "d5 = {}.fromkeys(('a','b'),10086)\n",
    "print(d1)\n",
    "print(d2)\n",
    "print(d3)\n",
    "print(d4)\n",
    "print(d5)"
   ]
  },
  {
   "cell_type": "code",
   "execution_count": null,
   "metadata": {},
   "outputs": [],
   "source": [
    "\"\"\"\n",
    "__foo__:一种约定,Python内部的名字,用来区别其他用户自定义的命名,以防冲突，就是例如__init__(),__del__(),__call__()这些特殊方法\n",
    "\n",
    "_foo:一种约定,用来指定变量私有.程序员用来指定私有变量的一种方式.不能用from module import * 导入，其他方面和公有一样访问；\n",
    "\n",
    "__foo:这个有真正的意义:解析器用_classname__foo来代替这个名字,以区别和其他类相同的命名,它无法直接像公有成员一样随便访问,\n",
    "    通过对象名._类名__xxx这样的方式可以访问.\n",
    "\"\"\""
   ]
  },
  {
   "cell_type": "code",
   "execution_count": 5,
   "metadata": {},
   "outputs": [
    {
     "name": "stdout",
     "output_type": "stream",
     "text": [
      "aaaaa(1, 2, 3)\n",
      "a(1, 2, 3)aaaauser2\n",
      "aaaaa(1, 2, 3)\n",
      "a(1, 2, 3)aaaauser2\n"
     ]
    }
   ],
   "source": [
    "name1 = (1,2,3)\n",
    "name2 = \"user2\"\n",
    "print(\"aaaaa{}\".format(name1))\n",
    "print(\"a{0}aaaa{1}\".format(name1,name2))\n",
    "# print(\"aaaaa%s\"%name1) 会报错TypeError，得用下面这种方式\n",
    "print(\"aaaaa%s\"%(name1,))\n",
    "print(\"a%saaaa%s\"%(name1,name2))"
   ]
  },
  {
   "cell_type": "code",
   "execution_count": 6,
   "metadata": {},
   "outputs": [
    {
     "name": "stdout",
     "output_type": "stream",
     "text": [
      "33\n"
     ]
    }
   ],
   "source": [
    "# 传的参数a,b直接用，c,d因是关键字参数，得从kwargs中取\n",
    "def test(*args,**kwargs):\n",
    "    print(a+b+kwargs['c']+kwargs['d'])\n",
    "\n",
    "a = 1\n",
    "b = 2\n",
    "test(a,b,c=10,d=20)"
   ]
  },
  {
   "cell_type": "code",
   "execution_count": 10,
   "metadata": {},
   "outputs": [
    {
     "name": "stdout",
     "output_type": "stream",
     "text": [
      "2.0018084049224854\n",
      "装饰器2\n",
      "装饰器1\n",
      "正在装饰1\n",
      "正在装饰2\n",
      "100\n",
      "200\n",
      "100\n",
      "200\n",
      "装饰完成2\n",
      "装饰完成1\n",
      "('a', 2)\n",
      "装饰器1\n",
      "装饰器1\n",
      "abc\n",
      "正在装饰1\n",
      "正在装饰1\n",
      "100\n",
      "200\n",
      "100\n",
      "200\n",
      "装饰完成1\n",
      "装饰完成1\n",
      "('a', 2)\n"
     ]
    }
   ],
   "source": [
    "\"\"\"\n",
    "AOP（面向切面），以至于有一种论调说“AOP会替代OOP”，然而事实上AOP跟OOP的关注点并不相同。\n",
    "面向对象（OOP）的目的在于抽象 ,而面向切面（AOP）的目的在于解耦。\n",
    "python装饰器，简单实例，在不修改原函数的前提下，测试一个函数运行的时间。\n",
    "\"\"\"\n",
    "import time\n",
    "def get_time(func):\n",
    "    def inner():\n",
    "        start_time = time.time()\n",
    "        func()\n",
    "        total_time = time.time()-start_time\n",
    "        print(total_time)\n",
    "    return inner\n",
    "\n",
    "@get_time\n",
    "def test():\n",
    "    time.sleep(2)\n",
    "\n",
    "test()\n",
    "\n",
    "# 另一装饰器，装饰器原理\n",
    "# 装饰阶段：\n",
    "# decorator1发现下面不是函数，而是装饰器，先不装饰，等下面的装饰器先装饰，\n",
    "# 装饰之后才是函数，装饰器装饰函数，不装饰装饰器，\n",
    "\n",
    "# ！！！！！重点\n",
    "# @decorator2等价于：\n",
    "# test2 = decorator2(test1) ==> 返回值为inner,所以test2 = inner(decorator2中的inner)\n",
    "# 所以decorator1装饰的是decorator2中的inner\n",
    "\n",
    "# @decorator1等价于：\n",
    "# test3 = decorator1(test2(也就是decorator2中的inner)) ==> 返回值为inner,所以test3 = inner(decorator1中的inner) \n",
    "# ！！！！！\n",
    "\n",
    "# 执行阶段：\n",
    "# 执行test3(),也就是执行decorator1中的inner,所以打印出\"正在装饰1\"，然后执行func,也就是执行decorator1中的参数test2,\n",
    "# 而执行test2等于执行decorator2中的inner,所以打印出“正在装饰2”，“装饰完成2”，再回到decorator1,打印“装饰完成1”\n",
    "\n",
    "# 可以先把test = test1(100,200) 和 print(test)注释，会发现，已经打印出“装饰器2“和“装饰器1“了\n",
    "# 为了让最后调用test1函数的时候还像原来没有装饰器时一样，所以，把上面的test2,test3都换成test1，最后就不是调用test3，\n",
    "# 而是调用test1了，看上去就和没有改变一样，其实真正的test1已经去装饰器内部执行了，调用的test1只是一个名字而已，\n",
    "def decorator1(func):\n",
    "    print(\"装饰器1\")\n",
    "    def inner(*args,**kwargs):\n",
    "        print(\"正在装饰1\")\n",
    "        res = func(*args,**kwargs)\n",
    "        print(\"装饰完成1\")\n",
    "        return res\n",
    "    return inner\n",
    "\n",
    "def decorator2(func):\n",
    "    print(\"装饰器2\")\n",
    "    def inner(*args,**kwargs):\n",
    "        print(\"正在装饰2\")\n",
    "        res = func(*args,**kwargs)\n",
    "        print(\"装饰完成2\")\n",
    "        return res\n",
    "    return inner\n",
    "\n",
    "@decorator1\n",
    "@decorator2\n",
    "def test1(a,b):\n",
    "    count_a = 0\n",
    "    count_b = 0\n",
    "    for i in range(4):\n",
    "        if i % 2 == 0:\n",
    "            print(a)\n",
    "            count_a += 1\n",
    "        else:\n",
    "            print(b)\n",
    "            count_b += 1\n",
    "    if count_a < count_b:\n",
    "        return \"b:\",count_b\n",
    "    else:\n",
    "        return \"a\",count_a\n",
    "\n",
    "test = test1(100,200)\n",
    "print(test)\n",
    "\n",
    "# 另一装饰器，三层装饰器，最外层在装饰器带参数的情况下需要的\n",
    "def outer1(canshu=\"aaa\"):\n",
    "    def decorator1(func):\n",
    "        print(\"装饰器1\")\n",
    "        def inner(*args,**kwargs):\n",
    "            print(canshu)\n",
    "            print(\"正在装饰1\")\n",
    "            res = func(*args,**kwargs)\n",
    "            print(\"装饰完成1\")\n",
    "            return res\n",
    "        return inner\n",
    "    return decorator1\n",
    "\n",
    "def outer2(canshu=\"aaa\"):\n",
    "    def decorator2(func):\n",
    "        print(\"装饰器2\")\n",
    "        def inner(*args,**kwargs):\n",
    "            print(canshu)\n",
    "            print(\"正在装饰2\")\n",
    "            res = func(*args,**kwargs)\n",
    "            print(\"装饰完成2\")\n",
    "            return res\n",
    "        return inner\n",
    "    return decorator1\n",
    "\n",
    "\n",
    "@outer1(\"abc\")\n",
    "@outer2()\n",
    "def test1(a,b):\n",
    "    count_a = 0\n",
    "    count_b = 0\n",
    "    for i in range(4):\n",
    "        if i % 2 == 0:\n",
    "            print(a)\n",
    "            count_a += 1\n",
    "        else:\n",
    "            print(b)\n",
    "            count_b += 1\n",
    "    if count_a < count_b:\n",
    "        return \"b:\",count_b\n",
    "    else:\n",
    "        return \"a\",count_a\n",
    "\n",
    "test = test1(100,200)\n",
    "print(test)"
   ]
  },
  {
   "cell_type": "code",
   "execution_count": 11,
   "metadata": {},
   "outputs": [
    {
     "name": "stdout",
     "output_type": "stream",
     "text": [
      "<__main__.single_instance object at 0x00000097572AAA58>\n",
      "<__main__.single_instance object at 0x00000097572AAA58>\n",
      "<__main__.single_instance object at 0x00000097572AAA58>\n",
      "this is foo<__main__.single_instance object at 0x00000097572AAA58>+aaa\n",
      "this is foo<__main__.single_instance object at 0x00000097572AAA58>+aaa\n"
     ]
    }
   ],
   "source": [
    "# 单例模式\n",
    "class single_instance(object):\n",
    "    __instance=None\n",
    "    __first_init = True\n",
    "    def __init__(self,name):\n",
    "        if self.__first_init:\n",
    "            self.name = name\n",
    "            self.__class__.__first_init = False\n",
    "\n",
    "    def __new__(cls,*args, **kwargs):\n",
    "        if cls.__instance==None:\n",
    "            cls.__instance=object.__new__(cls)\n",
    "        else:\n",
    "            print(cls.__instance)\n",
    "        return cls.__instance\n",
    "\n",
    "    def foo(self):\n",
    "        print('this is foo{0}+{1}'.format(self,self.name))\n",
    "\n",
    "    # def __str__(self):\n",
    "    #     return self.name\n",
    "\n",
    "a=single_instance(\"aaa\")\n",
    "b=single_instance(\"bbb\")\n",
    "print(a)\n",
    "print(b)\n",
    "a.foo()\n",
    "b.foo()"
   ]
  },
  {
   "cell_type": "code",
   "execution_count": 2,
   "metadata": {},
   "outputs": [
    {
     "name": "stdout",
     "output_type": "stream",
     "text": [
      "[1, 2, 3, 3, 4, 4, 5, 5, 6, 6, 7, 7, 8, 8, 9, 10, 20, 20, 30]\n",
      "[1, 2, 3, 3, 4, 4, 5, 5, 6, 6, 7, 7, 8, 8, 9, 10, 20, 20, 30]\n"
     ]
    }
   ],
   "source": [
    "# 空间换时间\n",
    "def combime1(l1,l2):\n",
    "    if l1[-1] <= l2[0]:\n",
    "        res = l1 + l2\n",
    "        return res\n",
    "    elif l2[-1] <= l1[0]:\n",
    "        res = l2 + l1\n",
    "        return res\n",
    "    else:\n",
    "        res = []\n",
    "        count_l1 = 0\n",
    "        count_l2 = 0\n",
    "        for i in range(len(l1)):\n",
    "            for j in range(count_l2,len(l2)):\n",
    "                if l2[j] <= l1[i]:\n",
    "                    res.append(l2[j])\n",
    "                    count_l2 += 1\n",
    "                else:\n",
    "                    res.append(l1[i])\n",
    "                    count_l1 += 1\n",
    "                    break\n",
    "                if count_l1 == len(l1):\n",
    "                    res.extend(l2[count_l2:])\n",
    "                elif count_l2 == len(l2):\n",
    "                    res.extend(l1[count_l1:])\n",
    "        return res\n",
    "\n",
    "\n",
    "# 时间换空间\n",
    "def combine2(l1,l2):\n",
    "    if l1[-1] <= l2[0]:\n",
    "        l1.extend(l2)\n",
    "        return l1\n",
    "    elif l2[-1] <= l1[0]:\n",
    "        l2.entend(l1)\n",
    "        return l2\n",
    "    else:\n",
    "        count_l2 = 0\n",
    "        for i in range(len(l1)):\n",
    "            for j in range(count_l2,len(l2)):\n",
    "                if l2[j] <= l1[i+count_l2]:\n",
    "                    l1.insert(i+count_l2,l2[j])\n",
    "                    count_l2 += 1\n",
    "                else:\n",
    "                    break\n",
    "        return l1\n",
    "\n",
    "l1 = [3,4,5,6,7,8,10,20,30]\n",
    "l2 = [1,2,3,4,5,6,7,8,9,20]\n",
    "print(combime1(l1,l2))    \n",
    "print(combine2(l1,l2))"
   ]
  },
  {
   "cell_type": "code",
   "execution_count": 17,
   "metadata": {},
   "outputs": [
    {
     "name": "stdout",
     "output_type": "stream",
     "text": [
      "0.0600428581237793\n",
      "0.030020713806152344\n",
      "0.036026954650878906\n"
     ]
    }
   ],
   "source": [
    "def get_time(func):\n",
    "    def inner(*args):\n",
    "        import time\n",
    "        start = time.time()\n",
    "        func(*args)\n",
    "        total = time.time()-start\n",
    "        return total\n",
    "    return inner\n",
    "\n",
    "@get_time\n",
    "def maopao(list):\n",
    "    #遍历\n",
    "    for i in range(len(list)):\n",
    "    #从第二个数开始逐个与第i个数比较\n",
    "        for j in range(i+1,len(list)):\n",
    "            #如果这个数大于第i个数，交换这两个数的位置，若从小到大排序则判断是否小于\n",
    "            if list[j] > list[i]:\n",
    "                list[j],list[i] = list[i],list[j]\n",
    "    return list\n",
    "\n",
    "@get_time\n",
    "def charu(list):\n",
    "    #未排序区的每个数与已排序区的每个数比较\n",
    "    for i in range(len(list)):\n",
    "        #前i个为已排序区\n",
    "        for j in range(0,i):\n",
    "            if list[j] < list[i]:\n",
    "                list[i],list[j] = list[j],list[i]\n",
    "    return list\n",
    "\n",
    "@get_time\n",
    "def xuanze(list):\n",
    "    for i in range(len(list)):\n",
    "        #最小值下标\n",
    "        min = i\n",
    "        #从第二个数开始选出第二个到最后一个的最小值，其次第三个到最后。。。直到最后一个数为最大值放在最后\n",
    "        for j in range(i+1,len(list)):\n",
    "            if list[j] < list[min]:\n",
    "                min = j\n",
    "        list[i],list[min] = list[min],list[i]\n",
    "    return list\n",
    "\n",
    "\n",
    "if __name__ == \"__main__\":\n",
    "    import random,time\n",
    "    list = []\n",
    "    for i in range(1000):\n",
    "        list.append(random.randint(1,1000))\n",
    "    \n",
    "    maopao = maopao(list)\n",
    "    print(maopao)\n",
    "    charu = charu(list) \n",
    "    print(charu)\n",
    "    xuanze = xuanze(list)\n",
    "    print(xuanze)"
   ]
  },
  {
   "cell_type": "code",
   "execution_count": 16,
   "metadata": {},
   "outputs": [
    {
     "name": "stdout",
     "output_type": "stream",
     "text": [
      "quick 0.0020017623901367188\n"
     ]
    }
   ],
   "source": [
    "def quick(list,left,right):\n",
    "    if left >= right:\n",
    "        return\n",
    "    middle = list[left]\n",
    "    low = left\n",
    "    high = right\n",
    "    while low < high:\n",
    "        while low < high and list[high] >= middle:\n",
    "            high -= 1\n",
    "        list[low] = list[high]\n",
    "        while low < high and list[low] < middle:\n",
    "            low += 1\n",
    "        list[high]= list[low]\n",
    "    list[low] = middle\n",
    "    quick(list,left,low-1)\n",
    "    quick(list,low+1,right)\n",
    "\n",
    "if __name__ == \"__main__\":\n",
    "    import random,time\n",
    "    list = []\n",
    "    for i in range(1000):\n",
    "        list.append(random.randint(1,1000))\n",
    "    start_time = time.time()\n",
    "    quick(list, 0, len(list) - 1)\n",
    "    print(\"quick\", time.time() - start_time)  "
   ]
  },
  {
   "cell_type": "code",
   "execution_count": 19,
   "metadata": {},
   "outputs": [
    {
     "name": "stdout",
     "output_type": "stream",
     "text": [
      "3\n",
      "None\n"
     ]
    }
   ],
   "source": [
    "# 二分\n",
    "def binary_search(n,list):\n",
    "    low = 0\n",
    "    high = len(list) - 1\n",
    "    while low <= high:\n",
    "        middle = (high+low) // 2\n",
    "        if n == list[middle]:\n",
    "            return middle\n",
    "        elif n < list[middle]:\n",
    "            high = middle - 1\n",
    "        else:\n",
    "            low = middle + 1\n",
    "\n",
    "mylist = [3,4,5,6,7,8,10,20,30]            \n",
    "print(binary_search(6,mylist))\n",
    "print(binary_search(86,mylist))"
   ]
  },
  {
   "cell_type": "code",
   "execution_count": 1,
   "metadata": {},
   "outputs": [
    {
     "name": "stdout",
     "output_type": "stream",
     "text": [
      "11\n",
      "22\n",
      "33\n",
      "44\n",
      "1\n",
      "2\n",
      "3\n"
     ]
    }
   ],
   "source": [
    "# class Foo:\n",
    "\n",
    "#     def __iter__(self):\n",
    "#         pass\n",
    "\n",
    "# obj = Foo()\n",
    "\n",
    "# for i in obj:\n",
    "#     print(i)\n",
    "\n",
    "# 报错：TypeError: iter() returned non-iterator of type 'NoneType'\n",
    "\n",
    "#原因是 __iter__方法没有返回一个可迭代的对象\n",
    "\n",
    "class Foo:\n",
    "\n",
    "    def __init__(self, sq):\n",
    "        self.sq = sq\n",
    "\n",
    "    def __iter__(self):\n",
    "        return iter(self.sq)\n",
    "\n",
    "obj = Foo([11,22,33,44])\n",
    "\n",
    "for i in obj:\n",
    "    print(i)\n",
    "\n",
    "# 这下没问题了！\n",
    "\n",
    "# 生成器\n",
    "class Foo:\n",
    "    def __init__(self):\n",
    "        pass\n",
    "\n",
    "    def __iter__(self):\n",
    "        yield 1\n",
    "        yield 2\n",
    "        yield 3\n",
    "\n",
    "obj = Foo()\n",
    "for i in obj:\n",
    "    print(i)"
   ]
  },
  {
   "cell_type": "code",
   "execution_count": 8,
   "metadata": {},
   "outputs": [
    {
     "name": "stdout",
     "output_type": "stream",
     "text": [
      "Counter({'low_cards': 36, 'tens': 16})\n"
     ]
    },
    {
     "data": {
      "text/plain": [
       "0.2"
      ]
     },
     "execution_count": 8,
     "metadata": {},
     "output_type": "execute_result"
    }
   ],
   "source": [
    "import collections\n",
    "from random import *\n",
    "deck = collections.Counter(tens=16, low_cards=36)\n",
    "print(deck)\n",
    "seen = sample(list(deck.elements()), k=20)\n",
    "seen.count('tens') / 20"
   ]
  },
  {
   "cell_type": "code",
   "execution_count": 10,
   "metadata": {},
   "outputs": [
    {
     "data": {
      "text/plain": [
       "['red', 'black', 'red', 'black', 'black', 'red']"
      ]
     },
     "execution_count": 10,
     "metadata": {},
     "output_type": "execute_result"
    }
   ],
   "source": [
    "# 6次旋转红黑绿轮盘(带权重可重复的取样)，不破坏原序列\n",
    "choices(['red', 'black', 'green'], [18, 18, 2], k=6)"
   ]
  },
  {
   "cell_type": "code",
   "execution_count": 1,
   "metadata": {},
   "outputs": [],
   "source": [
    "import re\n",
    "s = \"\\nabc\\n\"\n",
    "re.search(r\"^abc$\",s)"
   ]
  },
  {
   "cell_type": "code",
   "execution_count": 2,
   "metadata": {},
   "outputs": [
    {
     "data": {
      "text/plain": [
       "<_sre.SRE_Match object; span=(1, 4), match='abc'>"
      ]
     },
     "execution_count": 2,
     "metadata": {},
     "output_type": "execute_result"
    }
   ],
   "source": [
    "re.search(r\"abc$\",s)"
   ]
  },
  {
   "cell_type": "code",
   "execution_count": 4,
   "metadata": {},
   "outputs": [],
   "source": [
    "re.search(r\"abc$\",s)"
   ]
  },
  {
   "cell_type": "code",
   "execution_count": 8,
   "metadata": {},
   "outputs": [
    {
     "name": "stdout",
     "output_type": "stream",
     "text": [
      "<_sre.SRE_Match object; span=(18, 29), match='*something*'>\n"
     ]
    }
   ],
   "source": [
    "pat = re.compile(r'''\n",
    "                                \\*           # 转义一个星号\n",
    "                                (            #左括号代表一个 组的开始\n",
    "                                [^\\*]+       #捕获任何非星号的字符\n",
    "                                )            #右括号代表组的结束\n",
    "                                \\*           #转义一个星号\n",
    "                                ''',re.VERBOSE)\n",
    "obj = pat.search(\"hi ,this is a sfe *something* !\")\n",
    "print(obj)"
   ]
  },
  {
   "cell_type": "code",
   "execution_count": 9,
   "metadata": {},
   "outputs": [
    {
     "name": "stdout",
     "output_type": "stream",
     "text": [
      "<_sre.SRE_Match object; span=(9, 14), match='*abc*'>\n"
     ]
    }
   ],
   "source": [
    "obj = pat.search(\"hi ,this *abc* is a sfe *something* !\")\n",
    "print(obj)"
   ]
  },
  {
   "cell_type": "code",
   "execution_count": 10,
   "metadata": {},
   "outputs": [
    {
     "name": "stdout",
     "output_type": "stream",
     "text": [
      "hasdfi12\n",
      "()\n",
      "{}\n"
     ]
    }
   ],
   "source": [
    "origin = \"hasdfi12 3123safd\"\n",
    "# 不分组时的情况\n",
    "r = re.match(\"h\\w+\", origin)\n",
    "print(r.group())         # 获取匹配到的整体结果\n",
    "print(r.groups())        # 获取模型中匹配到的分组结果元组\n",
    "print(r.groupdict()) "
   ]
  }
 ],
 "metadata": {
  "kernelspec": {
   "display_name": "Python 3",
   "language": "python",
   "name": "python3"
  },
  "language_info": {
   "codemirror_mode": {
    "name": "ipython",
    "version": 3
   },
   "file_extension": ".py",
   "mimetype": "text/x-python",
   "name": "python",
   "nbconvert_exporter": "python",
   "pygments_lexer": "ipython3",
   "version": "3.6.5"
  }
 },
 "nbformat": 4,
 "nbformat_minor": 2
}
